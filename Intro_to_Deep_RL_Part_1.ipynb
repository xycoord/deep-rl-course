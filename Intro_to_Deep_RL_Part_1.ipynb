{
  "nbformat": 4,
  "nbformat_minor": 0,
  "metadata": {
    "colab": {
      "provenance": [],
      "collapsed_sections": [
        "df42qv7V8PRe"
      ]
    },
    "kernelspec": {
      "name": "python3",
      "display_name": "Python 3"
    },
    "language_info": {
      "name": "python"
    }
  },
  "cells": [
    {
      "cell_type": "markdown",
      "source": [
        "# Introduction to Deep Reinforcement Learning\n",
        "\n",
        "**Author: Logan Thomson**\n",
        "\n",
        "[![GitHub](https://img.shields.io/badge/GitHub-Connect-181717?logo=github&logoColor=white)](https://github.com/xycoord)\n",
        "[![LinkedIn](https://img.shields.io/badge/LinkedIn-Connect-blue)](https://www.linkedin.com/in/logan-thomson-01a4942ab)\n",
        "\n",
        "[![GitHub](https://img.shields.io/badge/Star_Repository-gold?logo=github&logoColor=white)](https://github.com/xycoord/deep-rl-course)\n",
        "[![GitHub Issues](https://img.shields.io/badge/Submit_Issue-red?logo=github)](https://github.com/xycoord/deep-rl-course/issues)\n",
        "\n",
        "Welcome to this introduction to Deep Reinforcement Learning. In this notebook we introduce the core abstractions and framework used in reinforcement learning as well as the policy gradients algorithm.\n",
        "\n",
        "The approach is to both provide rigorous mathematical definitions and explanations along with implementations. I encourage students to fully read and understand all three of these and not rush ahead. I don't expect you to complete the notebook in one sitting if you are to fully understand all the content.\n",
        "\n",
        "## Prerequisites\n",
        "\n",
        "- Machine Learning (Gradient Descent, Neural Networks)\n",
        "- Basic Probability Theory (Expectations and Distributions)\n",
        "- Multivariate Calculus\n",
        "- Python and Pytorch\n",
        "\n",
        "## Contents\n",
        "\n",
        "1. Reinforcement Learning Basics (Environments, Agents and Policies)\n",
        "2. The Reinforcement Learning Loop (Experiences and Trajectories)\n",
        "3. The Reinforcement Learning Objective\n",
        "4. Policy Gradients algorithm (Theory and Implementation)\n",
        "5. Variance\n",
        "6. Reward-to-go\n",
        "\n"
      ],
      "metadata": {
        "id": "2-D5VdYpn9gl"
      }
    },
    {
      "cell_type": "markdown",
      "source": [
        "# Dependencies & Utils\n",
        "Run to install and import all dependencies and set-up some utility functions for use with PyTorch. *For this notebook, a CPU runtime is sufficient.*\n"
      ],
      "metadata": {
        "id": "df42qv7V8PRe"
      }
    },
    {
      "cell_type": "code",
      "source": [
        "%%capture\n",
        "!pip install swig\n",
        "!pip install gymnasium[Box2D,mujoco]"
      ],
      "metadata": {
        "id": "NIvrybMt8N-3"
      },
      "execution_count": null,
      "outputs": []
    },
    {
      "cell_type": "code",
      "source": [
        "from typing import Union, List, Callable\n",
        "from abc import ABC, abstractmethod\n",
        "from dataclasses import dataclass\n",
        "\n",
        "import numpy as np\n",
        "import torch\n",
        "from torch import nn, optim, distributions\n",
        "\n",
        "import gymnasium as gym\n",
        "\n",
        "import itertools\n",
        "from tqdm import tqdm\n",
        "import matplotlib.pyplot as plt"
      ],
      "metadata": {
        "id": "BECPTmHB8WEC"
      },
      "execution_count": null,
      "outputs": []
    },
    {
      "cell_type": "markdown",
      "source": [
        "## Pytorch Utils"
      ],
      "metadata": {
        "id": "-2aXq-C08nGn"
      }
    },
    {
      "cell_type": "code",
      "source": [
        "device = torch.device(\"cpu\")\n",
        "dtype = torch.float32\n",
        "\n",
        "Activation = Union[str, nn.Module]\n",
        "\n",
        "_str_to_activation = {\n",
        "    'relu': nn.ReLU(),\n",
        "    'tanh': nn.Tanh(),\n",
        "    'leaky_relu': nn.LeakyReLU(),\n",
        "    'sigmoid': nn.Sigmoid(),\n",
        "    'selu': nn.SELU(),\n",
        "    'softplus': nn.Softplus(),\n",
        "    'identity': nn.Identity(),\n",
        "}\n",
        "\n",
        "@dataclass\n",
        "class MLPConfig:\n",
        "    input_size: int\n",
        "    output_size: int\n",
        "    n_layers: int = 2\n",
        "    size: int = 64\n",
        "    activation: Activation = 'tanh'\n",
        "    output_activation: Activation = 'identity'\n",
        "\n",
        "    def __post_init__(self):\n",
        "        if isinstance(self.activation, str):\n",
        "            self.activation = _str_to_activation[self.activation]\n",
        "        if isinstance(self.output_activation, str):\n",
        "            self.output_activation = _str_to_activation[self.output_activation]\n",
        "\n",
        "def build_mlp(config: MLPConfig) -> nn.Module:\n",
        "    \"\"\"\n",
        "        Builds a feedforward neural network specified by config\n",
        "    \"\"\"\n",
        "\n",
        "    layers = []\n",
        "    in_size = config.input_size\n",
        "    for _ in range(config.n_layers):\n",
        "        layers.append(nn.Linear(in_size, config.size))\n",
        "        layers.append(config.activation)\n",
        "        in_size = config.size\n",
        "    layers.append(nn.Linear(in_size, config.output_size))\n",
        "    layers.append(config.output_activation)\n",
        "\n",
        "    mlp = nn.Sequential(*layers)\n",
        "    mlp.to(device)\n",
        "    return mlp\n",
        "\n",
        "\n",
        "def combined_shape(length, shape=None):\n",
        "    if shape is None:\n",
        "        return (length,)\n",
        "    return (length, shape) if np.isscalar(shape) else (length, *shape)\n",
        "\n",
        "def set_seed(seed):\n",
        "    \"\"\"Set all the seeds for reproducibility\"\"\"\n",
        "    np.random.seed(seed)             # NumPy\n",
        "    torch.manual_seed(seed)          # PyTorch on CPU\n",
        "    torch.cuda.manual_seed(seed)     # PyTorch on GPU (single GPU)\n",
        "    torch.cuda.manual_seed_all(seed) # PyTorch on all GPUs (multi-GPU)\n",
        "    torch.backends.cudnn.deterministic = True  # Make CUDA deterministic\n",
        "    torch.backends.cudnn.benchmark = False     # Disable CUDA benchmarking"
      ],
      "metadata": {
        "id": "1Y0oSmam8kXK"
      },
      "execution_count": null,
      "outputs": []
    },
    {
      "cell_type": "markdown",
      "source": [
        "# Reinforcement Learning Basics\n",
        "\n",
        "> **Reinforcement Learning** is a framework in which an *agent* learns to perform tasks through trial-and-error interaction with its *environment*, receiving *rewards/penalties* as feedback from actions.\n",
        "\n",
        "In this first section, we'll introduce all the formal definitions for the key terms in this definition (shown in *italics*) along with their implementations."
      ],
      "metadata": {
        "id": "ML0g0GCxvu7p"
      }
    },
    {
      "cell_type": "markdown",
      "source": [
        "## Environments"
      ],
      "metadata": {
        "id": "qb2frBw81eXk"
      }
    },
    {
      "cell_type": "markdown",
      "source": [
        "> An **environment** is a 5-tuple $(\\mathcal S, \\mathcal A, p, p_0, r)$ where:\n",
        "> - $\\mathcal S$ is the State Space, the set of all states. A state $s\\in\\mathcal S$ is a complete description of the environment\n",
        "> - $\\mathcal A$ is the Action Space, the set of all actions an agent can take in the environment\n",
        "> - $p: \\mathcal S\\times\\mathcal A\\times\\mathcal S\\to[0,1]$ is the transition distribution s.t. $p(s_{t+1} | s_t,a_t)$ is the probability that the environment transitions from state $s_t$ to state $s_{t+1}$ when action $a_t$ is taken\n",
        "> - $p_0:\\mathcal S\\to[0,1]$ is the initial state distribution s.t. $p_0(s)$ is the probability that $s_0 = s$\n",
        "> - $r:\\mathcal S\\times\\mathcal A\\to\\mathbb R$ is the reward function s.t. $r(s_t,a_t)$ is the reward given when the environment is in state $s_t$ and action $a_t$ is taken\n",
        "\n",
        "This formalization is a **Markov Decision Process (MDP)**, the mathematical framework used in reinforcement learning for modelling sequential decision-making problems. MDPs capture problems where outcomes are partly random and partly under the control of a decision maker. Their key characteristic is the Markov Property:\n",
        "\n",
        "> The **Markov Property**: the probability of transitioning to the next state $s_{t+1}$ depends only on the current state $s_t$ and $a_t$, not on the history of previous states or actions.\n",
        "\n",
        "For this tutorial, we will use `gymnasium` to make and work with environments. It is a library that comes with a collates many standard environments used for testing RL algorithms, all with a common interface. We have imported it as `gym` for convenience.\n",
        "\n",
        "One of these is Cart Pole, a classic control problem with the aim of balancing the pole in the cart with left and right forces:\n",
        "![cart_pole.gif](https://gymnasium.farama.org/_images/cart_pole.gif)\n",
        "\n",
        "Let's make an instance using `gym.make`"
      ],
      "metadata": {
        "id": "uL1V8oiKveP_"
      }
    },
    {
      "cell_type": "code",
      "source": [
        "cartpole_env = gym.make(\"CartPole-v1\")\n",
        "# Reset the environment to an initial state sampled from p_0\n",
        "observation, info = cartpole_env.reset()"
      ],
      "metadata": {
        "id": "ZJNTUDTY9F_E"
      },
      "execution_count": null,
      "outputs": []
    },
    {
      "cell_type": "markdown",
      "source": [
        "### Observations\n",
        "\n",
        "In reality, we are rarely fortunate enough to know the whole state of the environment and the best we can get is a partial observation. Let's add this to the formalism:\n",
        "\n",
        "> $\\mathcal O$ is the observation space, the set of all possible observations. An observation $o\\in\\mathcal O$ is a partial description of the environment.\n",
        "\n",
        "Let's take a look at the observation space of our environment observation we get of the initial state."
      ],
      "metadata": {
        "id": "iaU6gj531868"
      }
    },
    {
      "cell_type": "code",
      "source": [
        "cartpole_env.observation_space"
      ],
      "metadata": {
        "id": "-aPqX5LSDnIb"
      },
      "execution_count": null,
      "outputs": []
    },
    {
      "cell_type": "code",
      "source": [
        "observation"
      ],
      "metadata": {
        "id": "OYp6muoI3CW_"
      },
      "execution_count": null,
      "outputs": []
    },
    {
      "cell_type": "markdown",
      "source": [
        "This is a numpy ndarray with shape (4,). The [Docs](https://gymnasium.farama.org/environments/classic_control/cart_pole/) tell us that these values refer to:\n",
        "\n",
        "`[Cart Position, Cart Velocity, Pole Angle, Pole Angular Velocity]`\n",
        "\n",
        "and the `observation_space` property tells us the minimum and maximum values.\n",
        "\n",
        "Cart Pole has a continuous state space and observation space but these can also be discrete. For example, consider what the state space of a noughts and crosses environment would be."
      ],
      "metadata": {
        "id": "-29de1nSEySm"
      }
    },
    {
      "cell_type": "markdown",
      "source": [
        "Throughout this course, I'll use states and observations somewhat interchangeably to maintain notational simplicity. When discussing theoretical concepts and derivations, I'll primarily refer to states ($s$) to align with standard RL literature. In the code implementations, however, I'll use observations since Gymnasium environments provide observations rather than full states.\n",
        "\n",
        "It's worth noting that CartPole, which we'll use throughout this notebook, is a fully-observable environment where the observation effectively represents the complete state of the system. Therefore, with this environment, the distinction is less important. However, this isn't always the case."
      ],
      "metadata": {
        "id": "l7HwEEMifXfc"
      }
    },
    {
      "cell_type": "markdown",
      "source": [
        "### Actions and Action Spaces"
      ],
      "metadata": {
        "id": "22L-YKeO12K4"
      }
    },
    {
      "cell_type": "code",
      "source": [
        "cartpole_env.action_space"
      ],
      "metadata": {
        "id": "odf2gaNmRAo7"
      },
      "execution_count": null,
      "outputs": []
    },
    {
      "cell_type": "markdown",
      "source": [
        "This tells us that the action space of Cart Pole is discrete, containing two actions: $\\mathcal A :=\\{0,1\\}$\n",
        "\n",
        "    0: Push cart to the left\n",
        "    1: Push cart to the right\n",
        "\n",
        "We can sample the action space:"
      ],
      "metadata": {
        "id": "_0BH_qD1RscR"
      }
    },
    {
      "cell_type": "code",
      "source": [
        "cartpole_env.action_space.sample()"
      ],
      "metadata": {
        "id": "cl64OdbHRJ8U"
      },
      "execution_count": null,
      "outputs": []
    },
    {
      "cell_type": "markdown",
      "source": [
        "Admittedly, sampling $\\{0,1\\}$ is quite underwhelming. Just as with state and observation spaces, action spaces can also be continuous.\n",
        "\n",
        "Let's look at a different example environment."
      ],
      "metadata": {
        "id": "g3NywXN7U82I"
      }
    },
    {
      "cell_type": "code",
      "source": [
        "half_cheetah_env = gym.make(\"HalfCheetah-v5\")\n",
        "observation, info = half_cheetah_env.reset()\n",
        "\n",
        "print(\"Observation Space:\", half_cheetah_env.observation_space)\n",
        "print(\"Initial Observation:\", observation)\n",
        "print(\"Action Space:\", half_cheetah_env.action_space)\n",
        "print(\"Sample Action:\", half_cheetah_env.action_space.sample())"
      ],
      "metadata": {
        "id": "ksTyTxd8YBM7"
      },
      "execution_count": null,
      "outputs": []
    },
    {
      "cell_type": "markdown",
      "source": [
        "See the [Docs](https://gymnasium.farama.org/environments/mujoco/half_cheetah/) for more info on the Half Cheetah environment."
      ],
      "metadata": {
        "id": "ZP5aWu_dZ38t"
      }
    },
    {
      "cell_type": "markdown",
      "source": [
        "### Take a Step\n",
        "Environments exist throughout time, transitioning between states when actions are taken. At each *timestep* $t$,\n",
        "\n",
        "1. We receive an observation $o_t\\in\\mathcal O$ of the environment's state $s_t\\in\\mathcal S$\n",
        "\n",
        "2. We select an action $a_t\\in\\mathcal A$\n",
        "\n",
        "3. The environment transitions to a new state $s_{t+1}$ sampled as:\n",
        "\n",
        "    $s_{t+1} \\sim p(\\cdot|s_t,a_t)$\n",
        "\n",
        "4. The reward function provides a reward based on the action taken:\n",
        "\n",
        "    $r_t = r(s_t, a_t)$\n",
        "\n",
        "    Higher rewards indicate that a good thing has happened.\n",
        "\n",
        "With `gymnasium` we take an action, incrementing the timestep, using `env.step(action)`"
      ],
      "metadata": {
        "id": "81cybtloaz4U"
      }
    },
    {
      "cell_type": "code",
      "source": [
        "action = cartpole_env.action_space.sample()\n",
        "observation, reward, terminated, truncated, info = cartpole_env.step(action)"
      ],
      "metadata": {
        "id": "JwQUl_Aha9S2"
      },
      "execution_count": null,
      "outputs": []
    },
    {
      "cell_type": "markdown",
      "source": [
        "This gives us an observation $o_{t+1}$ of the new state $s_{t+1}$ and the reward $r_t$.\n",
        "\n",
        "In Cart Pole, the aim is to keep the pole upright for as long as possible. Hence, a reward of $+1$ is given at every timestep in which the pole is not on the floor."
      ],
      "metadata": {
        "id": "BWttmbxwDCo0"
      }
    },
    {
      "cell_type": "markdown",
      "source": [
        "### Episodes, Termination and Truncation\n",
        "\n",
        "> A **Terminal State** is one that cannot be left (such as winning, losing, dying etc.)\n",
        "\n",
        "This leads to a distinction between two categories of task:\n",
        "\n",
        "> An **Episodic Task** has a *terminal state*\n",
        ">\n",
        "> e.g. a game of chess, a level in a video game, landing a rocket\n",
        "\n",
        ">A **Continuing Task** has no *terminal state*\n",
        ">   \n",
        "> e.g. trading on the stock market, walking, keeping the pole upright\n",
        "\n",
        "When an environment enters a terminal state, we say that the episode has ended. In `gymnasium`, we are notified of this by the `terminated` flag returning `True`.\n",
        "\n",
        "> **Truncation** is the act of forcibly ending interaction with the environment before reaching a natural conclusion\n",
        "\n",
        "We can make a continuing task episodic, or truncate an episodic task by enforcing a time limit (i.e. the maximum number of timesteps). Once the time limit is reached, the `truncated` flag returns `True`.\n",
        "\n",
        "While both termination and truncation end an episode it is important to keep them distinct, since when an episode is truncated, it has not entered a terminal state.\n",
        "\n",
        "Cart Pole has a terminal state (when the pole falls or the cart leaves the track) and a time limit of 500 steps."
      ],
      "metadata": {
        "id": "p_kFMWKy2Hdp"
      }
    },
    {
      "cell_type": "markdown",
      "source": [
        "## Agents and Policies\n",
        "\n",
        "So far we have directly sampled actions from the action space however in RL, it is the role of the agent to select actions.\n",
        "\n",
        "> An **agent** is an entity that interacts with an environment by taking actions according to its policy.\n",
        "\n",
        "> A **policy**, $\\pi:\\mathcal O\\to P(\\mathcal A)$, is a function from observations to distributions from which an action may be sampled (selected) given an observation:\n",
        "> $a_t \\sim \\pi(\\cdot|o_t)$\n",
        ">\n",
        "> Equivalently, $\\pi(a_t|o_t)$ is the probability that action $a_t$ is selected given observation $o_t$\n",
        "\n",
        "Let's setup some abstract base classes `Policy` and `Agent` to ensure that all the policies and agents we write in this tutorial have the same interface and meet the definitions."
      ],
      "metadata": {
        "id": "oz4dLUCSNYiZ"
      }
    },
    {
      "cell_type": "code",
      "source": [
        "class Policy(ABC):\n",
        "\n",
        "    @abstractmethod\n",
        "    def get_action(self, observation: np.ndarray) -> np.ndarray:\n",
        "        \"\"\" Select an action given the observation.\n",
        "        Args:\n",
        "            observation: an observation of the environment\n",
        "        Returns:\n",
        "            action: an action to take\n",
        "        \"\"\""
      ],
      "metadata": {
        "id": "ZnDoOlf39Lrd"
      },
      "execution_count": null,
      "outputs": []
    },
    {
      "cell_type": "code",
      "source": [
        "class Agent(ABC):\n",
        "\n",
        "    @property\n",
        "    @abstractmethod\n",
        "    def policy(self) -> Policy:\n",
        "        \"\"\" The agent's policy \"\"\"\n",
        "\n",
        "    @abstractmethod\n",
        "    def update(self, experiences):\n",
        "        \"\"\" Update the agent's policy \"\"\"\n",
        "        raise NotImplementedError"
      ],
      "metadata": {
        "id": "PnoPqyDm9dEi"
      },
      "execution_count": null,
      "outputs": []
    },
    {
      "cell_type": "markdown",
      "source": [
        "For the next sections, let's define a very simple agent and policy where the actions are sampled at random from the action space. This doesn't provide any new functionality, but it will allow us to implement and test some key bits of infrastructure before implementing proper agents."
      ],
      "metadata": {
        "id": "B_X6fqhR9H9K"
      }
    },
    {
      "cell_type": "code",
      "source": [
        "class RandomPolicy(Policy):\n",
        "    def __init__(self, action_space: gym.Space):\n",
        "        self.action_space = action_space\n",
        "\n",
        "    def get_action(self, observation: np.ndarray) -> np.ndarray:\n",
        "        # Sample a random action from the action space\n",
        "        action = self.action_space.sample()\n",
        "        return action"
      ],
      "metadata": {
        "id": "Ua8g69IELNgA"
      },
      "execution_count": null,
      "outputs": []
    },
    {
      "cell_type": "code",
      "source": [
        "class RandomAgent(Agent):\n",
        "    def __init__(self, action_space: gym.Space):\n",
        "        self._policy = RandomPolicy(action_space)\n",
        "\n",
        "    @property\n",
        "    def policy(self) -> Policy:\n",
        "        return self._policy\n",
        "\n",
        "    def update(self, experiences):\n",
        "        pass"
      ],
      "metadata": {
        "id": "a9MX9pN1MNOu"
      },
      "execution_count": null,
      "outputs": []
    },
    {
      "cell_type": "code",
      "source": [
        "random_agent = RandomAgent(cartpole_env.action_space)"
      ],
      "metadata": {
        "id": "zsrYBfne8Dtg"
      },
      "execution_count": null,
      "outputs": []
    },
    {
      "cell_type": "markdown",
      "source": [
        "It's worth noting that while in some cases the agent is no more than a thin wrapper around the policy, the concepts are distinct. In more complex algorithms than we discuss in this part, the agent has additional functionality."
      ],
      "metadata": {
        "id": "XoWBIa_QEMfm"
      }
    },
    {
      "cell_type": "markdown",
      "source": [
        "# The RL Loop\n",
        "\n",
        "Let us now rewrite the 4 stages of a timestep from above except have the agent select the actions. This gives us the **RL Loop**:\n",
        "1. The agent receives an observation $o_t\\in\\mathcal O$ from the environment\n",
        "2. The agent selects an action $a_t$ given $o_t$ using it's policy $\\pi$\n",
        "  \n",
        "   $a_t\\sim\\pi(\\cdot|o_t)$\n",
        "3. The environment transitions to a new state $s_{t+1}$ sampled as:\n",
        "\n",
        "   $s_{t+1} \\sim p(\\cdot|s_t,a_t)$\n",
        "\n",
        "4. The agent receives a reward $r_t$ from the enviroment for taking $a_t$:\n",
        "\n",
        "   $r_t = r(s_t, a_t)$\n",
        "\n",
        "In this section, we will implement the RL Loop."
      ],
      "metadata": {
        "id": "HswrXvOk7MAF"
      }
    },
    {
      "cell_type": "markdown",
      "source": [
        "## Experiences\n",
        "\n",
        "In each cycle of the loop, i.e. at each timestep, the agent receives $o_t$, selects $a_t$ and receives $r_t$.\n",
        "\n",
        "> An **experience** is the triple $(o_t, a_t, r_t)$\n",
        "\n",
        "It is the atomic unit of agent-environment interaction. In reinforcement learning, the agent learns from experiences.\n",
        "\n",
        "Let's create a dataclass to record experiences:"
      ],
      "metadata": {
        "id": "yhTGApdOV4eo"
      }
    },
    {
      "cell_type": "code",
      "source": [
        "@dataclass\n",
        "class ExperienceData:\n",
        "    observations: torch.Tensor\n",
        "    actions: torch.Tensor\n",
        "    rewards: torch.Tensor"
      ],
      "metadata": {
        "id": "XadpBHXQXoR5"
      },
      "execution_count": null,
      "outputs": []
    },
    {
      "cell_type": "markdown",
      "source": [
        "An experience is just a single sample and as we know from supervised learning, it can be helpful to learn from multiple samples at once i.e. a batch. For this reason, our experience dataclass is flexible enough to record either one or multiple experiences."
      ],
      "metadata": {
        "id": "MSuyMdxyysWj"
      }
    },
    {
      "cell_type": "markdown",
      "source": [
        "## Trajectories\n",
        "> A **trajectory** $\\tau$ is a sequence of experiences from an agent interacting with its environment according to its policy until it reaches a terminal state or is truncated.\n",
        "\n",
        "Note that two trajectories from the same policy and environment may vary considerably due to the stochasiticity in both.\n",
        "\n",
        "Let's make a dataclass for trajectories:"
      ],
      "metadata": {
        "id": "9eQswR5VLQqX"
      }
    },
    {
      "cell_type": "code",
      "source": [
        "@dataclass\n",
        "class Trajectory():\n",
        "    observations: torch.Tensor\n",
        "    actions: torch.Tensor\n",
        "    rewards: torch.Tensor\n",
        "    terminals: torch.Tensor\n",
        "    truncateds: torch.Tensor\n",
        "    total_reward: float\n",
        "    length: int"
      ],
      "metadata": {
        "id": "TgI6VYbsvgbH"
      },
      "execution_count": null,
      "outputs": []
    },
    {
      "cell_type": "markdown",
      "source": [
        "While this appears similar to our `ExperienceData` class, trajectories have distinct properties that warrant their own class representation:\n",
        "- **Sequential integrity**: experiences in a trajectory follow a strict temporal order, where each directly follows the previous one.\n",
        "- **Bounded Completion**: a trajectory ends exactly once, either by termination or truncation. Hence, the final experience must have at least one of its terminated or truncated flags set to true, and all other experiences in the trajectory must have both flags set to false.\n",
        "\n",
        "To enforce, or at least encourage these properties, we can make a `TrajectoryBuilder` class to record experiences as we run through the RL Loop.\n",
        "This implementation:\n",
        "- allows us to record an experience using add_experience\n",
        "- keeps track of whether the trajectory is finished\n",
        "- enforces Bounded Completion through assertions\n",
        "- encourages Sequential Integrity since only one experience may be added at a time\n",
        "- uses lists for efficiency until the trajectory is complete"
      ],
      "metadata": {
        "id": "zngQXbtOyXqm"
      }
    },
    {
      "cell_type": "code",
      "source": [
        "class TrajectoryBuilder():\n",
        "\n",
        "    def __init__(self):\n",
        "        self._observations = []\n",
        "        self._actions = []\n",
        "        self._rewards = []\n",
        "        self._terminals = []\n",
        "        self._truncateds = []\n",
        "        self._done = False\n",
        "        self._length = 0\n",
        "\n",
        "    def add_experience(self, observation, action, reward, terminal, truncated):\n",
        "        assert not self._done, \"Trajectory is already done. Call get_trajectory()\"\n",
        "\n",
        "        self._done = terminal or truncated\n",
        "\n",
        "        self._observations.append(observation)\n",
        "        self._actions.append(action)\n",
        "        self._rewards.append(reward)\n",
        "        self._terminals.append(self._done)\n",
        "        self._truncateds.append(truncated)\n",
        "\n",
        "        self._length += 1\n",
        "\n",
        "        return self._done\n",
        "\n",
        "    @property\n",
        "    def done(self) -> bool:\n",
        "        return self._done\n",
        "\n",
        "    @property\n",
        "    def trajectory(self) -> Trajectory:\n",
        "        assert self._done, \"Trajectory is not complete. It must be either terminated or truncated\"\n",
        "\n",
        "        def list_to_tensor(x):\n",
        "            return torch.tensor(np.array(x), dtype=dtype, device=device, requires_grad=False)\n",
        "\n",
        "        # Convert lists to tensors\n",
        "        observations = list_to_tensor(self._observations)\n",
        "        actions = list_to_tensor(self._actions)\n",
        "        rewards = list_to_tensor(self._rewards)\n",
        "        terminals = list_to_tensor(self._terminals)\n",
        "        truncateds = list_to_tensor(self._truncateds)\n",
        "\n",
        "        total_reward = rewards.sum()\n",
        "\n",
        "        return Trajectory(\n",
        "            observations,\n",
        "            actions,\n",
        "            rewards,\n",
        "            terminals,\n",
        "            truncateds,\n",
        "            total_reward,\n",
        "            self._length\n",
        "        )"
      ],
      "metadata": {
        "id": "phfJ3IK0vkXL"
      },
      "execution_count": null,
      "outputs": []
    },
    {
      "cell_type": "markdown",
      "source": [
        "Now we're ready to implement the RL Loop!"
      ],
      "metadata": {
        "id": "ES6ox-F29u1m"
      }
    },
    {
      "cell_type": "code",
      "source": [
        "def sample_trajectory(env: gym.Env, agent: Agent) -> Trajectory:\n",
        "    \"\"\"Sample a trajectory in the environment from a policy.\"\"\"\n",
        "\n",
        "    # Reset the environment to start a new trajectory\n",
        "    observation, info = env.reset()\n",
        "\n",
        "    traj_builder = TrajectoryBuilder()\n",
        "\n",
        "    # RL Loop\n",
        "    while not traj_builder.done:\n",
        "\n",
        "        # Select the action based on the observation\n",
        "        action = agent.policy.get_action(observation)\n",
        "\n",
        "        # Use that action to take a step in the environment\n",
        "        new_observation, reward, terminated, truncated, info = env.step(action)\n",
        "\n",
        "        # Record the experience\n",
        "        # Note that we record the o_t not o_t+1\n",
        "        traj_builder.add_experience(observation, action, reward, terminated, truncated)\n",
        "\n",
        "        # Update the observation for the next loop\n",
        "        observation = new_observation\n",
        "\n",
        "    return traj_builder.trajectory"
      ],
      "metadata": {
        "id": "fUv-pTyN90UA"
      },
      "execution_count": null,
      "outputs": []
    },
    {
      "cell_type": "markdown",
      "source": [
        "Let's test it!"
      ],
      "metadata": {
        "id": "Q6pPlQTzBSpt"
      }
    },
    {
      "cell_type": "code",
      "source": [
        "sample_trajectory(cartpole_env, random_agent)"
      ],
      "metadata": {
        "id": "xyUnSjpZBSNT"
      },
      "execution_count": null,
      "outputs": []
    },
    {
      "cell_type": "markdown",
      "source": [
        "# Measuring Performance\n",
        "\n",
        "## Rewards\n",
        "\n",
        "A key idea in RL is that rewards provide feedback to the agent such that it can learn to perform the task better. Formally:\n",
        "\n",
        "> A **reward**, $r_t$, is a numerical feedback signal provided by the reward function at timestep $t$\n",
        "\n",
        "> A **reward function**, $r: \\mathcal S \\times \\mathcal A \\to \\mathbb R$, is a function such that the accumulation of rewards over a trajectory corresponds to performance on the task in that trajectory.\n",
        "\n",
        "## Cumulative Reward\n",
        "\n",
        "We can overload the definition of $r$ to accept trajectories giving us a measure of performance in a trajectory:\n",
        "\n",
        "$$r(\\tau) = r(s_0, a_0, ..., s_{T-1}, a_{T-1}) = \\sum_{t=0}^{T-1} r(s_t, a_t)$$\n",
        "\n",
        "Let's look at some examples of reward functions. For each, consider how the cumulative reward relates to the goal.\n",
        "\n",
        "**Cart Pole**\n",
        "\n",
        "     Goal: keep the pole upright for as long as possible\n",
        "     Reward: +1 for every timestep the pole remains upright\n",
        "\n",
        "**Lunar Lander**\n",
        "\n",
        "     Goal: Safely land a spacecraft on the moon's surface with minimal fuel usage and proper positioning\n",
        "     Reward:\n",
        "        Increases/decreases based on proximity to landing pad (closer = higher reward)\n",
        "        Increases/decreases based on spacecraft velocity (slower = higher reward)\n",
        "        Decreases based on tilt angle (penalty for non-horizontal orientation)\n",
        "        +10 for each leg in contact with the ground\n",
        "        -0.03 for each frame a side engine is firing\n",
        "        -0.3 for each frame the main engine is firing\n",
        "        +100 bonus for landing safely\n",
        "        -100 penalty for crashing\n",
        "\n",
        "You may be tempted to characterise rewards as being received for \"good actions\" or \"making progress towards the goal\".\n",
        "While rewards are given for the state-action pairs at a particular timestep, it's more accurate to start with the cumulative reward $r(\\tau)$ being a measure of performance and working back from there to design a reward function.\n",
        "This is because it is the task performance over the whole trajectory that actually matters rather than the actions taken at any individual timestep.\n",
        "The relationship between immediate rewards and overall task performance can sometimes be non-obvious or counterintuitive, and designing effective reward functions plays a large part in reinforcement learning in practice.\n",
        "\n",
        "## Trajectory Distribution\n",
        "\n",
        "To measure the success of a policy $\\pi_\\theta$ parameterised by $\\theta$ we also need a notion of the probability of a trajectory occuring under that policy, and transition distribution $p$.\n",
        "\n",
        "$$p_\\theta(\\tau) = p_\\theta(s_0, a_0, ..., s_{T-1}, a_{T-1}) = p(s_0)\\pi_\\theta(a_0|s_0)\\prod_{t=1}^{T-1} p(s_t|s_{t-1}, a_{t-1})\\pi_\\theta(a_t|s_t)$$\n",
        "\n",
        "This is just the chain rule of probabilities used to break down the trajectory into its individual steps."
      ],
      "metadata": {
        "id": "7j_rlM4KJpf1"
      }
    },
    {
      "cell_type": "markdown",
      "source": [
        "## The RL Objective\n",
        "\n",
        "In reinforcement learning, we seek to find policy parameters $\\theta$ with maximal task performance. We do so by optimising the RL Objective - a measure of the policy's average performance. It is the expected cumulative reward over trajectories from the policy. Formally:\n",
        "\n",
        "$$J(\\theta)=\\mathbb E_{\\tau\\sim p_\\theta(\\tau)}[r(\\tau)]$$\n",
        "\n",
        "In other words, this objective quantifies how well a policy performs across all possible trajectories it might generate, weighted by how likely each trajectory is to occur."
      ],
      "metadata": {
        "id": "6pXbe0_PbcKP"
      }
    },
    {
      "cell_type": "markdown",
      "source": [
        "# Vanilla Policy Gradient Algorithm\n",
        "\n",
        "In this section, we will introduce and implement the simplest algorithm to optimise the RL objective. Up to this point, we have considered the policy as an arbitrary parameterised function but in deep reinforcement learning, it is specifically a neural network. As with most deep learning, the tool of choice to optimise model parameters to maximise an objective is gradient ascent. Therefore, we need to find the gradient of $J(\\theta)$.\n",
        "\n",
        "$$\\nabla_\\theta J(\\theta)= \\nabla_\\theta\\mathbb E_{\\tau\\sim p_\\theta(\\tau)}[r(\\tau)]$$\n",
        "\n",
        "Express the expectation as an integral:\n",
        "\n",
        "$$\n",
        "= \\nabla_\\theta \\int p_\\theta(\\tau)r(\\tau) \\rm d\\tau\n",
        "$$\n",
        "\n",
        "Take gradient inside the integral:\n",
        "$$\n",
        "= \\int\\nabla_\\theta p_\\theta(\\tau)r(\\tau) \\rm d\\tau\n",
        "$$\n",
        "\n",
        "Since the agent doesn't know the transition probabilities, $\\nabla_\\theta p_\\theta(\\tau)$ cannot be found directly. However, as we will see, $\\nabla_\\theta \\log p_\\theta(\\tau)$ can be computed without the transition probabilities. The next step, uses a convenient identity derived from the derivative of a logarithm:\n",
        "\n",
        "$$\n",
        "\\nabla_\\theta p_\\theta(\\tau)\n",
        "= p_\\theta(\\tau)\\frac{\\nabla_\\theta p_\\theta(\\tau)}{p_\\theta(\\tau)}\n",
        "= p_\\theta(\\tau)\\nabla_\\theta \\log p_\\theta(\\tau)\n",
        "$$\n",
        "\n",
        "Substituting this in gives:\n",
        "$$\n",
        "\\nabla_\\theta J(\\theta)\n",
        "= \\int p_\\theta(\\tau)\\nabla_\\theta \\log p_\\theta(\\tau)r(\\tau) \\rm d\\tau\n",
        "$$\n",
        "\n",
        "Which is in fact just an expectation over trajectories:\n",
        "$$ = \\mathbb E_{\\tau\\sim p_\\theta(\\tau)}[\\nabla_\\theta \\log p_\\theta(\\tau)r(\\tau)]$$\n",
        "\n",
        "\n",
        "Now we expand the gradient part to show that it doesn't require the transition probabilities:\n",
        "$$\n",
        "\\nabla_\\theta \\log p_\\theta(\\tau)\n",
        "= \\nabla_\\theta \\log p(s_0)\\pi_\\theta(a_0|s_0)\\prod_{t=1}^{T-1} p(s_t|s_{t-1}, a_{t-1})\\pi_\\theta(a_t|s_t)\n",
        "\\\\=\\nabla_\\theta \\big(\\log p(s_0) + \\log \\pi_\\theta(a_0|s_0) + \\sum_{t=1}^{T-1} \\log p(s_t|s_{t-1}, a_{t-1}) + \\log \\pi_\\theta(a_t|s_t)\\big)\n",
        "$$\n",
        "\n",
        "The $p$ terms don't depend on $\\theta$ so their gradients are zero.\n",
        "$$\n",
        "=\\nabla_\\theta \\big(\\log \\pi_\\theta(a_0|s_0) + \\sum_{t=1}^{T-1} \\log \\pi_\\theta(a_t|s_t)\\big)\n",
        "\\\\\n",
        "=\\nabla_\\theta \\sum_{t=0}^{T-1} \\log \\pi_\\theta(a_t|s_t)\n",
        "$$\n",
        "\n",
        "Pluging this back into the expectation and expanding the cumulative reward, we get:\n",
        "$$\\nabla_\\theta J(\\theta) = \\mathbb E_{\\tau\\sim p_\\theta(\\tau)}\\left[\\left(\\sum_{t=0}^{T-1} \\nabla_\\theta \\log \\pi_\\theta(a_{t}|s_{t})\\right)\\left(\\sum_{t=0}^{T-1} r(s_{t}, a_{t})\\right)\\right]$$\n",
        "\n",
        "Since we can't enumerate all possible trajectories, we cannot compute this expectation exactly. However, we can use a Monte Carlo approximation by sampling $N$ trajectories:\n",
        "\n",
        "$$\n",
        "\\approx \\frac{1}{N}\\sum_{i=1}^N \\left(\\sum_{t=0}^{T-1} \\nabla_\\theta \\log \\pi_\\theta(a_{it}|s_{it})\\right)\\left(\\sum_{t=0}^{T-1} r(s_{it}, a_{it})\\right)\n",
        "$$\n",
        "\n",
        "Where $i$ is the index of the trajectory and $t$ is the timestep within each trajectory.\n",
        "\n",
        "Finally, distributing the cumulative reward across the gradient sum gives:\n",
        "\n",
        "$$\n",
        "= \\frac{1}{N}\\sum_{i=1}^N \\sum_{t=0}^{T-1} \\left[\\nabla_\\theta\\log \\pi_\\theta(a_{it}|s_{it}) \\cdot \\left(\\sum_{k=0}^{T-1} r(s_{ik}, a_{ik})\\right)\\right]\n",
        "$$\n",
        "\n",
        "\n",
        "This can be implemented as a weighted log likelihood loss where the log likelihood of a state-action pair is weighted by the cumulative reward of the trajectory to which it belongs. We call this a surrogate loss, since it serves as a substitute objective whose gradient matches that of our true objective $J(\\theta)$.\n",
        "\n",
        "$$\n",
        "L_{\\text{surrogate}}(\\theta) = \\frac{1}{N}\\sum_{i=1}^N \\sum_{t=0}^{T-1} \\log \\pi_\\theta(a_{it}|s_{it}) \\cdot \\left(\\sum_{k=0}^{T-1} r(s_{ik}, a_{ik})\\right)\n",
        "$$\n",
        "\n",
        "Unlike in supervised learning, where all examples are good examples and have weight 1, in the surrogate loss, the cumulative reward measures how good the policy decisions in that trajectory are. The rigorous derivation was essential to ensure that gradient ascent on this loss genuinely optimises our original objective, but this interpretation also provides a reassuring intuition for why it works. Indeed, when we used the convenient identity to remove the dependence on the transition distributions, we changed the objective from $J(\\theta)$ to the surrogate loss. While these objectives are not equivalent, they have identical gradients, so gradient ascent on the surrogate loss will also maximise $J(\\theta)$.\n",
        "\n",
        "\n",
        "## Algorithm\n",
        "\n",
        "Having derived the gradient, we can now formalise the policy gradient algorithm:\n",
        "\n",
        "1. Sample $N$ trajectories $\\{\\tau^i\\}$ by running the policy\n",
        "2. Calculate the gradient\n",
        "$\n",
        "\\nabla_\\theta J(\\theta) \\approx \\sum_i \\sum_t \\left[\\nabla_\\theta\\log \\pi_\\theta(a_{it}|s_{it}) \\cdot \\left(\\sum_k r(s_{ik}, a_{ik})\\right)\\right]\n",
        "$\n",
        "3. Take a gradient ascent step $\\theta \\leftarrow \\theta + \\alpha\\nabla_\\theta J(\\theta)$\n",
        "\n",
        "  where $\\alpha$ is the learning rate\n",
        "\n",
        "Repeat steps 1 to 3.\n",
        "\n",
        "We omit the constant $\\frac{1}{N}$ in the gradient since it will just scale the learning rate."
      ],
      "metadata": {
        "id": "mViQAwQ37OP3"
      }
    },
    {
      "cell_type": "markdown",
      "source": [
        "## Implemenation\n",
        "\n",
        "Let's work through the algorithm step-by-step."
      ],
      "metadata": {
        "id": "_sqm3XssigUn"
      }
    },
    {
      "cell_type": "markdown",
      "source": [
        "### Sampling Trajectories\n",
        "\n",
        "The first step is to sample N trajectories. We can do this with a simple for loop and our sample_trajectory function."
      ],
      "metadata": {
        "id": "wYskxcKIO0Xx"
      }
    },
    {
      "cell_type": "code",
      "source": [
        "def sample_N_trajectories(environment, agent, N) -> List[Trajectory]:\n",
        "    trajectories = []\n",
        "\n",
        "    for _ in range(N):\n",
        "        trajectory = sample_trajectory(environment, agent)\n",
        "        trajectories.append(trajectory)\n",
        "\n",
        "    return trajectories"
      ],
      "metadata": {
        "id": "RwasMDTbJlPR"
      },
      "execution_count": null,
      "outputs": []
    },
    {
      "cell_type": "markdown",
      "source": [
        "In environments with terminal states, we may find that early in training, the trajectories are much shorter than later on. This happens with Cart Pole. Therefore, with this sampling function the gradient steps early in training are based on fewer experiences than those later on. This leads to less stable gradient updates when the agent is learning most rapidly. Another approach is to fix the number of timesteps/experiences we sample per gradient update. As in supervised learning, this number is called the batch size.\n",
        "\n",
        "To avoid truncating any trajectories, we fix a minimum batch size and sample just enough trajectories to fill it. This ensures we always have sufficient data for stable gradient estimates while respecting episode boundaries. Here's the updated implementation:"
      ],
      "metadata": {
        "id": "KptZ4rE1oNee"
      }
    },
    {
      "cell_type": "code",
      "source": [
        "def sample_trajectories(environment, agent, batch_size) -> List[Trajectory]:\n",
        "    trajectories = []\n",
        "\n",
        "    timesteps_so_far = 0\n",
        "    while timesteps_so_far < batch_size:\n",
        "        trajectory = sample_trajectory(environment, agent)\n",
        "        trajectories.append(trajectory)\n",
        "        timesteps_so_far += trajectory.length\n",
        "\n",
        "    return trajectories"
      ],
      "metadata": {
        "id": "J_qY63hkWVpb"
      },
      "execution_count": null,
      "outputs": []
    },
    {
      "cell_type": "markdown",
      "source": [
        "Test it!"
      ],
      "metadata": {
        "id": "f-O0YFsFOiuV"
      }
    },
    {
      "cell_type": "code",
      "source": [
        "trajectories = sample_trajectories(cartpole_env, random_agent, 10)\n",
        "print(trajectories)"
      ],
      "metadata": {
        "id": "U7zBQ0DhMsIr"
      },
      "execution_count": null,
      "outputs": []
    },
    {
      "cell_type": "markdown",
      "source": [
        "### From Trajectories to Experiences\n",
        "\n",
        "Previously, our ExperienceData class stored rewards for individual state-action pairs. However, our theoretical derivation shows that in the policy gradient calculation, these individual rewards aren't directly used. Instead, what matters is the weight applied to each log probability.\n",
        "To better align with this understanding, let's update our ExperienceData class:"
      ],
      "metadata": {
        "id": "QxpK7cmDOsUN"
      }
    },
    {
      "cell_type": "code",
      "source": [
        "@dataclass\n",
        "class ExperienceData:\n",
        "    observations: torch.Tensor\n",
        "    actions: torch.Tensor\n",
        "    weights: torch.Tensor"
      ],
      "metadata": {
        "id": "tZfYs4TTZr0-"
      },
      "execution_count": null,
      "outputs": []
    },
    {
      "cell_type": "markdown",
      "source": [
        "We can now write a function which takes a list of sampled trajectories and returns an experience data object to update the policy with. We abstract the weights calculation using a function `calculate_weights` that we pass in."
      ],
      "metadata": {
        "id": "NFcaphuLgtJ0"
      }
    },
    {
      "cell_type": "code",
      "source": [
        "def compile_trajectories(trajectories: list[Trajectory], calculate_weights: Callable[[torch.Tensor], torch.Tensor]) -> ExperienceData:\n",
        "\n",
        "    # Use torch.cat to directly concatenate tensors from all trajectories\n",
        "    observations = torch.cat([t.observations for t in trajectories], dim=0)\n",
        "    actions = torch.cat([t.actions for t in trajectories], dim=0)\n",
        "\n",
        "    # Calculate weights for each trajectory from its rewards\n",
        "    weights = torch.cat([calculate_weights(t.rewards) for t in trajectories], dim=0)\n",
        "\n",
        "    return ExperienceData(observations, actions, weights)"
      ],
      "metadata": {
        "id": "9zsVzdGl9E_q"
      },
      "execution_count": null,
      "outputs": []
    },
    {
      "cell_type": "markdown",
      "source": [
        "Let's implement the particular function we use to calculate the weights for a trajectory. This takes the sum of rewards across the trajectory and broadcasts it to the length of the trajectory such that there is one weight for each experience."
      ],
      "metadata": {
        "id": "9voL9xHSNmWU"
      }
    },
    {
      "cell_type": "code",
      "source": [
        "def sum_of_rewards(rewards: torch.Tensor) -> torch.Tensor:\n",
        "    total_reward = rewards.sum()\n",
        "    return torch.ones_like(rewards) * total_reward"
      ],
      "metadata": {
        "id": "C1TUJZEi9GYm"
      },
      "execution_count": null,
      "outputs": []
    },
    {
      "cell_type": "markdown",
      "source": [
        "Test it!"
      ],
      "metadata": {
        "id": "D95EHSWHMkLY"
      }
    },
    {
      "cell_type": "code",
      "source": [
        "discrete_experience_data = compile_trajectories(trajectories, sum_of_rewards)\n",
        "print(discrete_experience_data)"
      ],
      "metadata": {
        "id": "sAGybikczk0j"
      },
      "execution_count": null,
      "outputs": []
    },
    {
      "cell_type": "markdown",
      "source": [
        "### Policy\n",
        "\n",
        "#### Network Architecture\n",
        "\n",
        "Our policy will use a fully connected MLP which takes an observation as input and outputs a distribution over actions. The policy handles both discrete and continuous action spaces using PyTorch's built-in distribution classes, which support sampling and differentiation.\n",
        "\n",
        "For discrete action spaces, we use a `Categorical` distribution parameterized by a vector of logits. The MLP outputs this vector with one logit for each possible action. When we sample from this distribution, we get a single integer action.\n",
        "\n",
        "For continuous action spaces, we use a `MultivariateNormal` distribution parameterized by a mean vector and covariance matrix. The MLP outputs the mean vector directly, with its size matching the action space dimension. The covariance matrix is diagonal, with each diagonal element being the variance for a corresponding action dimension. We learn these variances as separate parameters outside the MLP. This choice simplifies things by removing state-dependence from the variances. When we sample from this distribution, we get a continuous vector action.\n",
        "\n",
        "Note that even though we will only demonstrate the algorithm on a discrete environement, we implement the code for continuous environments too for completeness.\n",
        "\n",
        "To simplify construction of the MLP, we use the helper function `build_mlp` which returns a fully connected MLP with specified by an `MLPConfig`.\n",
        "\n",
        "```\n",
        "@dataclass\n",
        "class MLPConfig:\n",
        "    input_size: int\n",
        "    output_size: int\n",
        "    n_layers: int = 2\n",
        "    size: int = 64\n",
        "    activation: Activation = 'tanh'\n",
        "    output_activation: Activation = 'identity'\n",
        "```\n",
        "\n",
        "#### Sampling Actions\n",
        "\n",
        "Because we're using PyTorch distributions, sampling an action given an observation is as easy as running a forward pass and sampling the resulting distribution. It is worth noting that we do this with `@torch.no_grad()` since, in general, we only need the gradients when performing an update step.\n",
        "\n",
        "#### Update\n",
        "\n",
        "The `update` method follows the classic PyTorch gradient descent structure:\n",
        "1. Zero Gradients\n",
        "2. Forward Pass\n",
        "3. Compute Loss\n",
        "4. Backward Pass (compute gradients)\n",
        "5. Optimiser Step\n",
        "\n",
        "We perform the forward pass again here except with gradients on. Another possible implementation would be to perform only a single forward pass, when sampling an action. However, this would require remembering the `log_prob` throughout the pipeline, which is less clear.\n",
        "\n",
        "Note that since PyTorch implements gradient *decent*, not gradient *ascent*, we negate the loss.\n",
        "\n",
        "#### Optimizer\n",
        "\n",
        "We use the Adam optimiser for more stable training; however, you can think of this as just a gradient decent optimiser which implements the gradient step."
      ],
      "metadata": {
        "id": "9uVBF0pqO9f6"
      }
    },
    {
      "cell_type": "code",
      "source": [
        "class PGPolicy(Policy, nn.Module):\n",
        "    def __init__(\n",
        "        self,\n",
        "        mlp_config: MLPConfig,\n",
        "        discrete: bool,\n",
        "        learning_rate: float,\n",
        "    ):\n",
        "        # Call both parent initializers\n",
        "        Policy.__init__(self)\n",
        "        nn.Module.__init__(self)\n",
        "\n",
        "        # Define the network\n",
        "        if discrete:\n",
        "            self.logits_net = build_mlp(mlp_config)\n",
        "            parameters = self.logits_net.parameters()\n",
        "        else:\n",
        "            self.mean_net = build_mlp(mlp_config)\n",
        "            # For continuous policies, logvar needs to match the action dimension (output_size)\n",
        "\n",
        "            # We use log variances as parameters for numerical stability\n",
        "            # This ensures variances remain positive when transformed via exp()\n",
        "            # and prevents collapse to extremely small values during training\n",
        "            self.logvar = nn.Parameter(\n",
        "                torch.zeros(mlp_config.output_size, dtype=dtype)\n",
        "            )\n",
        "            parameters = itertools.chain([self.logvar], self.mean_net.parameters())\n",
        "\n",
        "        self.discrete = discrete\n",
        "\n",
        "        # Initialise optimizer\n",
        "        self.optimizer = optim.Adam(\n",
        "            parameters,\n",
        "            learning_rate,\n",
        "        )\n",
        "\n",
        "        # Move entire model to device\n",
        "        self.to(device)\n",
        "\n",
        "\n",
        "    def forward(self, observation: torch.FloatTensor) -> distributions.Distribution:\n",
        "        \"\"\"\n",
        "        This function defines the forward pass of the network.\n",
        "        \"\"\"\n",
        "        if self.discrete:\n",
        "            logits = self.logits_net(observation)\n",
        "            return distributions.Categorical(logits=logits)\n",
        "        else:\n",
        "            mean = self.mean_net(observation)\n",
        "            covariance_matrix = torch.diag(torch.exp(self.logvar))\n",
        "            return distributions.MultivariateNormal(mean, covariance_matrix)\n",
        "\n",
        "\n",
        "    @torch.no_grad()\n",
        "    def get_action(self, observation: np.ndarray) -> np.ndarray:\n",
        "        \"\"\"Takes a single observation (as a numpy array) and returns a single action (as a numpy array).\"\"\"\n",
        "        observation = torch.tensor(observation, dtype=dtype, device=device)\n",
        "        distribution = self.forward(observation)\n",
        "        action = distribution.sample()\n",
        "        action = action.to('cpu').detach().numpy()\n",
        "        return action\n",
        "\n",
        "\n",
        "    def update(self, experiences: ExperienceData) -> float:\n",
        "\n",
        "        self.optimizer.zero_grad()\n",
        "\n",
        "        distribution = self.forward(experiences.observations)\n",
        "        log_probs = distribution.log_prob(experiences.actions)\n",
        "        surrogate_loss = -(log_probs * experiences.weights).mean()\n",
        "\n",
        "        surrogate_loss.backward()\n",
        "        self.optimizer.step()\n",
        "\n",
        "        return surrogate_loss.item()\n"
      ],
      "metadata": {
        "id": "KhpCsHeMbV7m"
      },
      "execution_count": null,
      "outputs": []
    },
    {
      "cell_type": "markdown",
      "source": [
        "### Agent"
      ],
      "metadata": {
        "id": "4oA-6e31PEWM"
      }
    },
    {
      "cell_type": "markdown",
      "source": [
        "In the vanilla policy gradients algorithm, the agent is just a thin wrapper around the policy, which makes it very simple to implement."
      ],
      "metadata": {
        "id": "JN0_ukinWqmi"
      }
    },
    {
      "cell_type": "code",
      "source": [
        "class PGAgent(Agent):\n",
        "    def __init__(self, policy_args):\n",
        "        self._policy = PGPolicy(**policy_args)\n",
        "\n",
        "    @property\n",
        "    def policy(self) -> Policy:\n",
        "        return self._policy\n",
        "\n",
        "    def update(self, experiences: ExperienceData) -> float:\n",
        "        return self._policy.update(experiences)"
      ],
      "metadata": {
        "id": "Icq6AHhxIA31"
      },
      "execution_count": null,
      "outputs": []
    },
    {
      "cell_type": "code",
      "source": [
        "discrete = isinstance(cartpole_env.action_space, gym.spaces.Discrete)\n",
        "ac_dim = cartpole_env.action_space.n if discrete else cartpole_env.action_space.shape[0]\n",
        "ob_dim = cartpole_env.observation_space.shape[0]\n",
        "\n",
        "mlp_config = MLPConfig(\n",
        "    input_size=ob_dim,\n",
        "    output_size=ac_dim,\n",
        "    n_layers=2,\n",
        "    size=64,\n",
        "    activation='tanh',\n",
        "    output_activation='identity',\n",
        ")\n",
        "\n",
        "policy_args = {\n",
        "    \"mlp_config\": mlp_config,\n",
        "    \"discrete\": discrete,\n",
        "    \"learning_rate\": 5e-3,\n",
        "}\n",
        "pgagent = PGAgent(policy_args)"
      ],
      "metadata": {
        "id": "z3hbmOgJzNMZ"
      },
      "execution_count": null,
      "outputs": []
    },
    {
      "cell_type": "markdown",
      "source": [
        "### Training Loop\n",
        "\n",
        "Finally, we can put this all together into a training loop."
      ],
      "metadata": {
        "id": "Gd6LKHHxPHw2"
      }
    },
    {
      "cell_type": "code",
      "source": [
        "def train_agent_simple(agent, environment, batch_size, num_updates):\n",
        "\n",
        "    for step in range(num_updates):\n",
        "        trajectories = sample_trajectories(environment, agent, batch_size)\n",
        "        experience_data = compile_trajectories(trajectories, sum_of_rewards)\n",
        "        loss = agent.update(experience_data)\n",
        "\n",
        "    environment.close()\n",
        "    return agent"
      ],
      "metadata": {
        "id": "YVXK-_uWPZr8"
      },
      "execution_count": null,
      "outputs": []
    },
    {
      "cell_type": "markdown",
      "source": [
        "While this perfectly implements the algorithm, it would be useful to track how the training has gone and plot the metrics. This `Tracker` class lets us do just that. Don't worry too much about the implementation."
      ],
      "metadata": {
        "id": "0F4e5B7VPjXz"
      }
    },
    {
      "cell_type": "code",
      "source": [
        "class Tracker:\n",
        "    def __init__(self):\n",
        "        self.metrics = {}\n",
        "\n",
        "    def log(self, metrics_dict, step=None):\n",
        "        \"\"\"Log metrics at a specific step\"\"\"\n",
        "        for key, value in metrics_dict.items():\n",
        "            if key not in self.metrics:\n",
        "                self.metrics[key] = []\n",
        "            self.metrics[key].append(value)\n",
        "\n",
        "    def plot(self, metric_name, y_max=500):\n",
        "        \"\"\"Plot a single metric\"\"\"\n",
        "        if metric_name in self.metrics:\n",
        "            plt.figure(figsize=(8, 4))\n",
        "            plt.plot(self.metrics[metric_name])\n",
        "            plt.title(metric_name.capitalize())\n",
        "            plt.xlabel('Step')\n",
        "            plt.ylabel(metric_name)\n",
        "            plt.ylim(top=y_max)\n",
        "            plt.grid(True)\n",
        "            plt.show()\n",
        "\n",
        "    def plot_all(self, y_max=500):\n",
        "        \"\"\"Plot all metrics\"\"\"\n",
        "        for metric_name in self.metrics:\n",
        "            self.plot(metric_name, y_max=y_max)"
      ],
      "metadata": {
        "id": "O_3vKL0-EpAf"
      },
      "execution_count": null,
      "outputs": []
    },
    {
      "cell_type": "markdown",
      "source": [
        "Add a tracker to the train agent and plot the metrics at the end of training."
      ],
      "metadata": {
        "id": "ceYT8azIJMSj"
      }
    },
    {
      "cell_type": "code",
      "source": [
        "def train_agent(agent, environment, batch_size, num_updates):\n",
        "\n",
        "    tracker = Tracker()\n",
        "\n",
        "    # tqdm renders a progress bar during training\n",
        "    for step in tqdm(range(num_updates)):\n",
        "\n",
        "        trajectories = sample_trajectories(environment, agent, batch_size)\n",
        "        experience_data = compile_trajectories(trajectories, sum_of_rewards)\n",
        "        surrogate_loss = agent.update(experience_data)\n",
        "\n",
        "        average_cumulative_reward = np.mean([t.total_reward for t in trajectories])\n",
        "        tracker.log({\n",
        "            \"Surrogate Loss\": surrogate_loss,\n",
        "            \"Average Cumulative Reward\": average_cumulative_reward,\n",
        "        })\n",
        "\n",
        "    tracker.plot_all()\n",
        "\n",
        "    environment.close()\n",
        "    return agent"
      ],
      "metadata": {
        "id": "uy0SUWz1_8lX"
      },
      "execution_count": null,
      "outputs": []
    },
    {
      "cell_type": "markdown",
      "source": [
        "### Seeds\n",
        "\n",
        "In reinforcement learning, many components involve randomness: environment transitions, reward functions, neural network initialisation, and action sampling from policy distributions. This randomness can significantly impact training outcomes. By setting specific random seeds, we ensure that these random processes produce the same sequence of values each time, making experiments reproducible.\n",
        "\n",
        "The `set_seed` function I've provided sets seeds for both PyTorch (controlling network initialisation and policy sampling) and NumPy (which Gymnasium uses internally). Additionally, we must set the seed when resetting each environment with `env.reset(seed=seed)`. Once seeded, both the neural networks and environment will behave deterministically unless explicitly reseeded.\n",
        "\n",
        "To make sure you have a successful first run, I have pre-selected `seed=2` since it performed well in my tests.\n",
        "However, when evaluating algorithms, we should try multiple seeds (typically 5-10) to account for the variance in performance that different random initialisations can produce. When comparing different algorithms or hyperparameters, use the same set of seeds across all variations to ensure fair comparisons."
      ],
      "metadata": {
        "id": "5vw_5kKc3-Ef"
      }
    },
    {
      "cell_type": "code",
      "source": [
        "seed = 2\n",
        "set_seed(seed)\n",
        "cartpole_env.reset(seed=seed)"
      ],
      "metadata": {
        "id": "3VfBno2MdRB9"
      },
      "execution_count": null,
      "outputs": []
    },
    {
      "cell_type": "markdown",
      "source": [
        "### Train\n",
        "\n",
        "With the seed set, it's time to create a new agent and train it."
      ],
      "metadata": {
        "id": "SjMFPYtT58aS"
      }
    },
    {
      "cell_type": "code",
      "source": [
        "pgagent = PGAgent(policy_args)\n",
        "train_agent(pgagent, cartpole_env, batch_size=1000, num_updates=100)"
      ],
      "metadata": {
        "id": "w8CMc3lF57zS"
      },
      "execution_count": null,
      "outputs": []
    },
    {
      "cell_type": "markdown",
      "source": [
        "### Surrogate Loss vs. Cumulative Reward\n",
        "\n",
        "The two plots show our surrogate loss and the actual RL objective (cumulative reward) across the training run. Notice how these metrics differ: while their general shapes are similar, their scales and detailed patterns vary significantly. This illustrates our earlier theoretical point—these two objectives aren't identical, but they share the same gradients.\n",
        "\n",
        "A crucial difference from supervised learning is that the surrogate loss doesn't consistently decrease, despite our use of gradient descent. As the policy improves, the distribution of experiences shifts, changing the experience weights. However, the optimizer treats these weights as constants that don't depend on the policy parameters. As a result, the loss isn't as reliable a metric in RL as it would be in supervised learning.\n",
        "\n",
        "For this reason, we'll focus primarily on tracking and plotting the average cumulative reward in subsequent sections."
      ],
      "metadata": {
        "id": "8HXR08XEKagY"
      }
    },
    {
      "cell_type": "code",
      "source": [
        "def train_agent(agent, environment, batch_size, num_updates):\n",
        "\n",
        "    tracker = Tracker()\n",
        "\n",
        "    # tqdm renders a progress bar during training\n",
        "    for step in tqdm(range(num_updates)):\n",
        "\n",
        "        trajectories = sample_trajectories(environment, agent, batch_size)\n",
        "        experience_data = compile_trajectories(trajectories, sum_of_rewards)\n",
        "        loss = agent.update(experience_data)\n",
        "\n",
        "        average_cumulative_reward = np.mean([t.total_reward for t in trajectories])\n",
        "        tracker.log({\"Average Cumulative Reward\": average_cumulative_reward})\n",
        "\n",
        "    tracker.plot_all()\n",
        "\n",
        "    environment.close()\n",
        "    return agent"
      ],
      "metadata": {
        "id": "_wSC2tirJ85S"
      },
      "execution_count": null,
      "outputs": []
    },
    {
      "cell_type": "markdown",
      "source": [
        "# Reducing Variance\n",
        "\n",
        "Above, we used a seed which I knew to perform well. However, in practice we don't have this luxury. To demonstrate how performance varies with randomness, we'll train 5 agents using different seeds [0,1,2,3,4]. To isolate the effect of randomness during training specifically, we'll fix the policy initialisation seed (42) so all agents start with identical parameters, while varying only the training seed between runs.\n"
      ],
      "metadata": {
        "id": "U03fA3n-7XwH"
      }
    },
    {
      "cell_type": "code",
      "source": [
        "# This experiment takes about 4mins to run.\n",
        "\n",
        "for seed in range(5):\n",
        "    # Constant policy initialisation\n",
        "    set_seed(42)\n",
        "    pgagent = PGAgent(policy_args)\n",
        "\n",
        "    # Seeded training\n",
        "    print(f\"Seed {seed}\")\n",
        "    set_seed(seed)\n",
        "    cartpole_env.reset(seed=seed)\n",
        "    train_agent(pgagent, cartpole_env, batch_size=1000, num_updates=100)"
      ],
      "metadata": {
        "id": "r8PYhccir8nH"
      },
      "execution_count": null,
      "outputs": []
    },
    {
      "cell_type": "markdown",
      "source": [
        "As you can see, both the maximum cumulative reward and time taken to reach it vary significantly between seeds. This high variance stems from the Monte Carlo approximation used in the surrogate loss function. When only a few trajectories are sampled per gradient update, different training runs naturally encounter varied experiences, leading to inconsistent learning outcomes. The most straightforward approach to decrease this variance is simply to sample more trajectories per update. However, doing so is often expensive—especially in real-world environments where each sample requires physical action. As a result, the field has prioritized developing methods that make better use of limited samples.\n",
        "\n",
        "In the last part of this notebook, we'll introduce a simple but very powerful variance reduction technique called reward-to-go, which has become a standard component in virtually all modern RL algorithms."
      ],
      "metadata": {
        "id": "t-S6t9XHxfPL"
      }
    },
    {
      "cell_type": "markdown",
      "source": [
        "## Reward-to-go\n",
        "\n",
        "In the current loss, the log probability of the policy action at timestep $t$ is weighted by the sum-of-rewards across *all* timesteps. However, this approach includes rewards that occurred before taking action at time\n",
        "$t$, which couldn't possibly have been influenced by this action due to causality - actions can only affect future rewards, not past ones. If we want the weighting to reflect how good *that specific* action was, we should only consider rewards that could have resulted from it. Therefore, the weight should be only the sum of rewards from timestep $t$ onward, which is known as the reward-to-go.\n",
        "\n"
      ],
      "metadata": {
        "id": "UWtpBL2NvizS"
      }
    },
    {
      "cell_type": "markdown",
      "source": [
        "### Unbiased Proof\n",
        "\n",
        "So far, we've given an intuitive explanation of why reward-to-go is a good idea, but to rigorously justify it, we need to prove that using reward-to-go weights in the surrogate loss will still maximise the RL objective. To do this, we need to show that the expectations of the gradient estimators are equal. Formally,\n",
        "\n",
        "$$\n",
        "\\mathbb E_{\\tau\\sim p_\\theta}\\left[ \\sum_{t=0}^{T-1}  \\nabla_\\theta \\log \\pi_\\theta(a_{t}|s_{t}) \\sum_{t'=0}^{T-1} r(s_{t'}, a_{t'})\\right] =\n",
        "\\mathbb E_{\\tau\\sim p_\\theta}\\left[ \\sum_{t=0}^{T-1}  \\nabla_\\theta \\log \\pi_\\theta(a_{t}|s_{t}) \\sum_{t'=t}^{T-1} r(s_{t'}, a_{t'})\\right]\n",
        "$$\n",
        "\n",
        "To prove this equality, we need to show that the contribution of terms where $t'< t$ to the left hand side expectation is zero.\n",
        "\n",
        "First, rearrange the left-hand side to get:\n",
        "$$\n",
        "\\mathbb E_{\\tau\\sim p_\\theta}\\left[\n",
        "  \\sum_{t=0}^{T-1} \\sum_{t'=0}^{T-1}\n",
        "    \\nabla_\\theta \\log \\pi_\\theta(a_{t}|s_{t}) r(s_{t'}, a_{t'})\n",
        "\\right]\n",
        "$$\n",
        "\n",
        "Apply linearity of expectations:\n",
        "$$\n",
        "=\\sum_{t=0}^{T-1} \\sum_{t'=0}^{T-1}\n",
        "\\mathbb E_{s_t,a_t,s_{t'},a_{t'}}\\left[\n",
        "  \\nabla_\\theta \\log \\pi_\\theta(a_{t}|s_{t}) r(s_{t'}, a_{t'})\n",
        "\\right]\n",
        "$$\n",
        "Note that we've changed to writing the expectations over only the relevant state-action pairs.\n",
        "\n",
        "For all summands, we decompose the expectation by conditioning on $s_t$:\n",
        "$$\n",
        "\\mathbb E_{s_t,a_t,s_{t'},a_{t'}}\\Big[\\nabla_\\theta \\log \\pi_\\theta(a_{t}|s_{t}) r(s_{t'}, a_{t'})\\Big]\n",
        "=\n",
        "\\mathbb E_{s_t}\\bigg[\\mathbb E_{a_t,s_{t'},a_{t'}|s_t}\\Big[\\nabla_\\theta \\log \\pi_\\theta(a_{t}|s_{t}) r(s_{t'}, a_{t'})\\big|s_t\\Big]\\bigg]\n",
        "$$\n",
        "\n",
        "Now consider only the summands for which $t'< t$. By causality, $r(s_{t'},a_{t'})$ is independent of $a_t$, so we can factor out the expectation. This step only holds for $t'< t$!\n",
        "\n",
        "$$\n",
        "=\n",
        "\\mathbb E_{s_t}\\bigg[\n",
        "\\mathbb E_{a_t|s_t}\\Big[\\nabla_\\theta \\log \\pi_\\theta(a_{t}|s_{t}) \\big|s_t\\Big]\n",
        "\\mathbb E_{s_{t'},a_{t'}|s_t}\\Big[r(s_{t'}, a_{t'})\\big|s_t\\Big]\n",
        "\\bigg]\n",
        "$$\n",
        "\n",
        "The next step is to prove that this expectation is zero. To do this, we use a reverse of the log-probability gradient trick we used to derive the original surrogate loss.\n",
        "$$\n",
        "\\begin{align}\n",
        "  \\mathbb E_{a_t|s_t}[\\nabla_\\theta \\log \\pi_\\theta(a_t|s_t)|s_t]\n",
        "&= \\sum_{a_t} \\pi_\\theta(a_t|s_t)\\nabla_\\theta \\log \\pi_\\theta(a_t|s_t)\\\\\n",
        "&= \\sum_{a_t} \\pi_\\theta(a_t|s_t)\\frac{\\nabla_\\theta \\pi_\\theta(a_t|s_t)}{\\pi_\\theta(a_t|s_t)}\\\\\n",
        "&= \\nabla_\\theta \\sum_{a_t} \\pi_\\theta(a_t|s_t)\\\\\n",
        "\\end{align}\n",
        "$$\n",
        "\n",
        "This sum is equal to $1$, since it is the total probability. Therefore, the gradient is $0$.\n",
        "\n",
        "This shows that the terms where $t' < t$ contribute zero to the gradient expectation. Since the terms where $t' \\geq t$ are identical in both estimators, the reward-to-go estimator has the same expected gradient as the sum-of-rewards estimator.\n",
        "\n"
      ],
      "metadata": {
        "id": "9eAkiuBhxpu4"
      }
    },
    {
      "cell_type": "markdown",
      "source": [
        "### Reduced Variance\n",
        "\n",
        "In the previous section, we proved that the terms removed in the reward-to-go estimator (where $t' < t$) have an expectation of zero. However, these terms still have non-zero variance. Since these past rewards cannot be causally influenced by the current action, they contribute only statistical noise to the gradient estimate without providing useful signal. By removing these zero-expectation terms, the reward-to-go estimator maintains the same expected gradient value while eliminating a source of variance."
      ],
      "metadata": {
        "id": "GaDWc-L99OqE"
      }
    },
    {
      "cell_type": "markdown",
      "source": [
        "### Implementation\n",
        "\n",
        "To exemplify the improvements in performance we get from using reward-to-go, let's implement it and run the same seeded experiments as before.\n",
        "\n",
        "First we need a `calculate_weights` function. We can implement this manually using the simple dynamic programming technique of working from the last timestep backwards."
      ],
      "metadata": {
        "id": "uQYwNcvZxrLZ"
      }
    },
    {
      "cell_type": "code",
      "source": [
        "def reward_to_go(rewards: torch.Tensor) -> torch.Tensor:\n",
        "    T = len(rewards)\n",
        "    rtg = torch.zeros_like(rewards)\n",
        "\n",
        "    # Base case:\n",
        "    rtg[T-1] = rewards[T-1]\n",
        "\n",
        "    # Work backwards:\n",
        "    for t in range(T-2, -1, -1):\n",
        "        rtg[t] = rewards[t] + rtg[t+1]\n",
        "\n",
        "    return rtg"
      ],
      "metadata": {
        "id": "oYD86zEJGFTp"
      },
      "execution_count": null,
      "outputs": []
    },
    {
      "cell_type": "markdown",
      "source": [
        "To implement reward-to-go using Pytorch functions to avoid the overhead of python for loops, we can use `cumsum`. Unfortunately, `cumsum` accumulates from the first element rather than the last. Therefore we need to flip the array before and afterwards."
      ],
      "metadata": {
        "id": "8tBiBw3IGG6O"
      }
    },
    {
      "cell_type": "code",
      "source": [
        "def reward_to_go(rewards: torch.Tensor) -> torch.Tensor:\n",
        "    rewards_reversed = torch.flip(rewards, [0])\n",
        "    rtg_reversed = torch.cumsum(rewards_reversed, 0)\n",
        "    rtg = torch.flip(rtg_reversed, [0])\n",
        "    return rtg"
      ],
      "metadata": {
        "id": "5KoDRmLHC7hs"
      },
      "execution_count": null,
      "outputs": []
    },
    {
      "cell_type": "markdown",
      "source": [
        "Let's test this implementation with a simple example:"
      ],
      "metadata": {
        "id": "gmQtIOA3JzUL"
      }
    },
    {
      "cell_type": "code",
      "source": [
        "rewards = torch.tensor([1.0, 2.0, 3.0, 4.0, 5.0])\n",
        "reward_to_go(rewards)\n",
        "# Expected result for reward-to-go:\n",
        "# [1+2+3+4+5, 2+3+4+5, 3+4+5, 4+5, 5]\n",
        "# [15.0, 14.0, 12.0, 9.0, 5.0]"
      ],
      "metadata": {
        "id": "zDZS_t2yJ6pw"
      },
      "execution_count": null,
      "outputs": []
    },
    {
      "cell_type": "markdown",
      "source": [
        "Now update the training function:"
      ],
      "metadata": {
        "id": "Etx7gdw4Kxy4"
      }
    },
    {
      "cell_type": "code",
      "source": [
        "def train_agent_rtg(agent, environment, batch_size, num_updates):\n",
        "\n",
        "    tracker = Tracker()\n",
        "\n",
        "    for step in tqdm(range(num_updates)):\n",
        "\n",
        "        trajectories = sample_trajectories(environment, agent, batch_size)\n",
        "        experience_data = compile_trajectories(trajectories, reward_to_go) # REWARD TO GO\n",
        "        loss = agent.update(experience_data)\n",
        "\n",
        "        average_cumulative_reward = np.mean([t.total_reward for t in trajectories])\n",
        "        tracker.log({\"Average Cumulative Reward\": average_cumulative_reward})\n",
        "\n",
        "    tracker.plot_all()\n",
        "\n",
        "    environment.close()\n",
        "    return agent"
      ],
      "metadata": {
        "id": "JVS7TsjCK_Sf"
      },
      "execution_count": null,
      "outputs": []
    },
    {
      "cell_type": "markdown",
      "source": [
        "Test for variance:"
      ],
      "metadata": {
        "id": "B7uGOMwpLqJG"
      }
    },
    {
      "cell_type": "code",
      "source": [
        "for seed in range(5):\n",
        "    # Constant policy initialisation\n",
        "    set_seed(42)\n",
        "    pgagent = PGAgent(policy_args)\n",
        "\n",
        "    # Seeded training\n",
        "    print(f\"Seed {seed}\")\n",
        "    set_seed(seed)\n",
        "    cartpole_env.reset(seed=seed)\n",
        "    train_agent_rtg(pgagent, cartpole_env, batch_size=1000, num_updates=100)"
      ],
      "metadata": {
        "id": "8tIEvPs4LdpW"
      },
      "execution_count": null,
      "outputs": []
    },
    {
      "cell_type": "markdown",
      "source": [
        "Woah! That's a huge improvement in performance, well worth the long proof. Now all of the seeds we tested reach 500 cumulative reward, which means we've effectively solved the CartPole environment (reaching its maximum possible reward). It's worth noting that CartPole is considered one of the simpler RL benchmark environments. For more complex environments with higher-dimensional spaces, longer time horizons, and sparse rewards, even reward-to-go—while powerful—isn't enough on its own. We'll need additional variance reduction techniques to achieve stable learning in these  scenarios."
      ],
      "metadata": {
        "id": "Iv1SMS5YOLU-"
      }
    },
    {
      "cell_type": "markdown",
      "source": [
        "# Next Steps\n",
        "\n",
        "Well done for getting through this introduction to deep RL! In the next parts of the course, we will explore more advanced variance reduction methods which we'll use to improve the policy gradients algorithm:\n",
        "- Discounting\n",
        "- Baselines\n",
        "- Actor-Critic algorithms\n",
        "- Generalised Advantage Estimation (GAE)\n",
        "\n",
        "These techniques form the backbone of modern deep RL algorithms and will enable us to tackle increasingly complex environments beyond CartPole.\n",
        "\n",
        "**Part 2: Discounting**\n",
        "\n",
        "[![Open In Colab](https://colab.research.google.com/assets/colab-badge.svg)](https://colab.research.google.com/drive/1UULTQYnymQOpa7nuaw6mDXnvWRV9R_2y?usp=sharing)"
      ],
      "metadata": {
        "id": "N-mMhnwiySZl"
      }
    },
    {
      "cell_type": "markdown",
      "source": [
        "# Feedback and Contact Information\n",
        "\n",
        "If you found this notebook useful, please consider:\n",
        "- Sharing it with friends and colleagues who might benefit\n",
        "- Starring the repository on GitHub\n",
        "- Connecting with me on LinkedIn\n",
        "\n",
        "[![GitHub](https://img.shields.io/badge/Star_Repository-gold?logo=github&logoColor=white)](https://github.com/xycoord/deep-rl-course)\n",
        "[![LinkedIn](https://img.shields.io/badge/LinkedIn-Connect-blue)](https://linkedin.com/in/logan-thomson-01a4942ab)\n",
        "\n",
        "If you found anything confusing, I'd be happy to answer any questions:\n",
        "\n",
        "[![GitHub Issues](https://img.shields.io/badge/Submit_Issue-red?logo=github)](https://github.com/xycoord/deep-rl-course/issues)\n",
        "[![GitHub Discussions](https://img.shields.io/badge/Join_Discussion-green?logo=github)](https://github.com/xycoord/deep-rl-course/discussions)\n",
        "\n",
        "I'm continuously working to improve this material and extend it with additional topics. Your feedback helps make this resource better for everyone!"
      ],
      "metadata": {
        "id": "Hu4jPwTx2Otb"
      }
    }
  ]
}